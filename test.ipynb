{
  "nbformat": 4,
  "nbformat_minor": 0,
  "metadata": {
    "colab": {
      "name": "Untitled0.ipynb",
      "provenance": [],
      "authorship_tag": "ABX9TyMcT2z2iBZPExtJ12LusNY8",
      "include_colab_link": true
    },
    "kernelspec": {
      "name": "python3",
      "display_name": "Python 3"
    },
    "language_info": {
      "name": "python"
    }
  },
  "cells": [
    {
      "cell_type": "markdown",
      "metadata": {
        "id": "view-in-github",
        "colab_type": "text"
      },
      "source": [
        "<a href=\"https://colab.research.google.com/github/d-johna/Coursera_Capstone/blob/master/test.ipynb\" target=\"_parent\"><img src=\"https://colab.research.google.com/assets/colab-badge.svg\" alt=\"Open In Colab\"/></a>"
      ]
    },
    {
      "cell_type": "code",
      "metadata": {
        "colab": {
          "base_uri": "https://localhost:8080/"
        },
        "id": "CvvBMuWzJFHw",
        "outputId": "78067314-7d31-466c-c7c3-d16eac43c5dc"
      },
      "source": [
        "import pandas as pd \n",
        "import numpy as np \n",
        "\n",
        "print('Hello Capstone Project Course')"
      ],
      "execution_count": null,
      "outputs": [
        {
          "output_type": "stream",
          "text": [
            "Hello Capstone Project Course\n"
          ],
          "name": "stdout"
        }
      ]
    },
    {
      "cell_type": "code",
      "metadata": {
        "id": "DY82zphLLlor",
        "outputId": "188a737d-1d79-4f75-cfaa-aefb0bbf2e82",
        "colab": {
          "base_uri": "https://localhost:8080/"
        }
      },
      "source": [
        "print('REVIEW')"
      ],
      "execution_count": 3,
      "outputs": [
        {
          "output_type": "stream",
          "text": [
            "REVIEW\n"
          ],
          "name": "stdout"
        }
      ]
    }
  ]
}